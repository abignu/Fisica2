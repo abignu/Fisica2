{
  "nbformat": 4,
  "nbformat_minor": 0,
  "metadata": {
    "colab": {
      "name": "TM_resta_InfoCuantica.ipynb",
      "version": "0.3.2",
      "provenance": [],
      "collapsed_sections": [],
      "include_colab_link": true
    },
    "kernelspec": {
      "name": "python3",
      "display_name": "Python 3"
    }
  },
  "cells": [
    {
      "cell_type": "markdown",
      "metadata": {
        "id": "view-in-github",
        "colab_type": "text"
      },
      "source": [
        "<a href=\"https://colab.research.google.com/github/abignu/InformacionCuantica/blob/master/TM_resta_InfoCuantica.ipynb\" target=\"_parent\"><img src=\"https://colab.research.google.com/assets/colab-badge.svg\" alt=\"Open In Colab\"/></a>"
      ]
    },
    {
      "metadata": {
        "id": "od8cBnzJni8u",
        "colab_type": "code",
        "colab": {}
      },
      "cell_type": "code",
      "source": [
        "import numpy as np"
      ],
      "execution_count": 0,
      "outputs": []
    },
    {
      "metadata": {
        "id": "AoJIK1otn6CL",
        "colab_type": "code",
        "colab": {}
      },
      "cell_type": "code",
      "source": [
        "#declaro las principales herramientas\n",
        "a = [0, 1] #alfabeto\n",
        "e = ['S1', 'S2', 'S3'] #estados"
      ],
      "execution_count": 0,
      "outputs": []
    },
    {
      "metadata": {
        "id": "YsI5RZcNoKb8",
        "colab_type": "code",
        "outputId": "1421d73c-131a-49c7-86c5-37566024c378",
        "colab": {
          "base_uri": "https://localhost:8080/",
          "height": 255
        }
      },
      "cell_type": "code",
      "source": [
        "msg = [1, 1, 1, 1, 0, 0, 1] #mensaje\n",
        "\n",
        "#una vez recibido el mensaje lo analizamos con la máquina de Turing\n",
        "bool = True\n",
        "estado = e[0] #asigno por default el estado a S1\n",
        "estado_siguiente = e[0]\n",
        "\n",
        "#primero busco un uno para empezar a chequear condiciones\n",
        "idx = 0\n",
        "contador = 0\n",
        "#print('{} {} posición {} {}'.format(estado, msg, idx, estado_siguiente))\n",
        "while bool: \n",
        "  \n",
        "  if msg[idx] == a[1]:\n",
        "    \n",
        "    print('{} {} posición {} {}'.format(estado, msg, idx, estado_siguiente))\n",
        "    \n",
        "    if estado_siguiente == e[0]:\n",
        "      estado = e[0] #dejo el estado en S1\n",
        "      estado_siguiente = e[0] #cambio el estado_siguiente a S1\n",
        "      idx = idx + 1 #nos movemos a la derecha\n",
        "    elif estado_siguiente == e[1]:\n",
        "      estado = e[1] #dejo el estado en S2\n",
        "      estado_siguiente = e[2] #cambio el estado_siguiente a S3\n",
        "      msg[idx] = a[0] #cambio el mensaje a cero\n",
        "      idx = idx - 1 #nos movemos a la izquierda\n",
        "    elif estado_siguiente == e[2]:\n",
        "      estado = e[2] #dejo el estado en S3\n",
        "      estado_siguiente = e[1] #cambio el estado_siguiente a S2\n",
        "      msg[idx] = a[0] #cambio el mensaje a cero\n",
        "      idx = idx + 1 #nos movemos a la izquierda\n",
        "    \n",
        "   \n",
        "  if msg[idx] == a[0]:\n",
        "    \n",
        "    print('{} {} posición {} {}'.format(estado, msg, idx, estado_siguiente))\n",
        "    \n",
        "    if estado_siguiente == e[0]:\n",
        "      estado = e[0] #dejo el estado en S1\n",
        "      estado_siguiente = e[1] #cambio el estado_siguiente a S2\n",
        "      idx = idx + 1 #nos movemos a la derecha\n",
        "    elif estado_siguiente == e[1]:\n",
        "      estado = e[1] #dejo el estado en S2\n",
        "      estado_siguiente = e[1] #cambio el estado_siguiente a S2\n",
        "      idx = idx + 1 #nos movemos a la derecha  \n",
        "    elif estado_siguiente == e[2]:\n",
        "      estado = e[2] #dejo el estado en S3\n",
        "      estado_siguiente = e[2] #cambio el estado_siguiente a S3\n",
        "      idx = idx - 1 #nos movemos a la izquierda\n",
        "    \n",
        "  #si me paso del tamaño de array hago break\n",
        "  if idx >= len(msg):\n",
        "    bool = False\n",
        "print('termine')"
      ],
      "execution_count": 25,
      "outputs": [
        {
          "output_type": "stream",
          "text": [
            "S1 [1, 1, 1, 1, 0, 0, 1] posición 0 S1\n",
            "S1 [1, 1, 1, 1, 0, 0, 1] posición 1 S1\n",
            "S1 [1, 1, 1, 1, 0, 0, 1] posición 2 S1\n",
            "S1 [1, 1, 1, 1, 0, 0, 1] posición 3 S1\n",
            "S1 [1, 1, 1, 1, 0, 0, 1] posición 4 S1\n",
            "S1 [1, 1, 1, 1, 0, 0, 1] posición 5 S2\n",
            "S2 [1, 1, 1, 1, 0, 0, 1] posición 6 S2\n",
            "S2 [1, 1, 1, 1, 0, 0, 0] posición 5 S3\n",
            "S3 [1, 1, 1, 1, 0, 0, 0] posición 4 S3\n",
            "S3 [1, 1, 1, 1, 0, 0, 0] posición 3 S3\n",
            "S3 [1, 1, 1, 0, 0, 0, 0] posición 4 S2\n",
            "S2 [1, 1, 1, 0, 0, 0, 0] posición 5 S2\n",
            "S2 [1, 1, 1, 0, 0, 0, 0] posición 6 S2\n",
            "termine\n"
          ],
          "name": "stdout"
        }
      ]
    }
  ]
}