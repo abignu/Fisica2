{
  "nbformat": 4,
  "nbformat_minor": 0,
  "metadata": {
    "colab": {
      "name": "ComprobadorParidad_TM_infoCuantica.ipynb",
      "version": "0.3.2",
      "provenance": [],
      "collapsed_sections": [],
      "include_colab_link": true
    },
    "kernelspec": {
      "name": "python3",
      "display_name": "Python 3"
    }
  },
  "cells": [
    {
      "cell_type": "markdown",
      "metadata": {
        "id": "view-in-github",
        "colab_type": "text"
      },
      "source": [
        "<a href=\"https://colab.research.google.com/github/abignu/InformacionCuantica/blob/master/ComprobadorParidad_TM_infoCuantica.ipynb\" target=\"_parent\"><img src=\"https://colab.research.google.com/assets/colab-badge.svg\" alt=\"Open In Colab\"/></a>"
      ]
    },
    {
      "metadata": {
        "id": "GuxfmW3OYgtH",
        "colab_type": "code",
        "colab": {}
      },
      "cell_type": "code",
      "source": [
        "#máquina de Turing que comprueba paridad\n",
        "import numpy as np"
      ],
      "execution_count": 0,
      "outputs": []
    },
    {
      "metadata": {
        "id": "UJx8uO4cYow9",
        "colab_type": "code",
        "colab": {}
      },
      "cell_type": "code",
      "source": [
        "#declaro las principales herramientas\n",
        "a = ['b', 1, 'impar', 'par'] #alfabeto\n",
        "e = ['h', 'Sp', 'Si'] #estados"
      ],
      "execution_count": 0,
      "outputs": []
    },
    {
      "metadata": {
        "id": "Hu_CilBVZSss",
        "colab_type": "code",
        "outputId": "7ad74d83-bc2c-4621-b855-569192c18bb9",
        "colab": {
          "base_uri": "https://localhost:8080/",
          "height": 119
        }
      },
      "cell_type": "code",
      "source": [
        "msg = ['b', 'b', 1, 1, 1, 1, 'b', 'b', 'b'] #mensaje\n",
        "\n",
        "#una vez recibido el mensaje lo analizamos con la máquina de Turing\n",
        "bool = True\n",
        "estado = e[1] #asigno por default el estado a par\n",
        "estado_siguiente = e[2]\n",
        "\n",
        "#primero busco un uno para empezar a chequear condiciones\n",
        "idx = msg.index(1) #esto me devuelve la posición del primer '1' dentro del mensaje\n",
        "contador = 0\n",
        "while bool: \n",
        "  #cuando me encuentro un 1 cambio el estado a impar y me muevo a la derecha\n",
        "  if msg[idx] == a[1]:\n",
        "    print('{} {} posición {} {}'.format(estado, msg, idx, estado_siguiente))\n",
        "    idx += 1 #nos movemos a la derecha\n",
        "    \n",
        "    if (contador % 2) == 0:\n",
        "      estado = e[2] #cambio el estado a impar\n",
        "      estado_siguiente = e[1] #cambio el estado_siguiente a par\n",
        "    else:\n",
        "      estado = e[1]\n",
        "      estado_siguiente = e[2]\n",
        "    contador += 1\n",
        "    \n",
        "  if (msg[idx] == a[0])and(estado == e[1]):\n",
        "    #si el mensaje es 'b' y el estado 'Sp'\n",
        "    msg[idx] = a[3] #pongo una F en ese lugar\n",
        "    estado_siguiente = e[0] #el estado siguiente es 'hault'-->stop\n",
        "    print('{} {} posición {} {}'.format(estado, msg, idx, estado_siguiente))\n",
        "    bool = False\n",
        "\n",
        "  if (msg[idx] == a[0])and(estado == e[2]):\n",
        "    #si el mensaje es 'b' y el estado 'Si'\n",
        "    msg[idx] = a[2] #pongo una V en ese lugar\n",
        "    estado_siguiente = e[0] #el estado siguiente es 'hault'-->stop\n",
        "    print('{} {} posición {} {}'.format(estado, msg, idx, estado_siguiente))\n",
        "    bool = False\n",
        "    \n",
        "      "
      ],
      "execution_count": 0,
      "outputs": [
        {
          "output_type": "stream",
          "text": [
            "Sp ['b', 1, 1, 1, 1, 1, 'b', 'b', 'b'] posición 1 Si\n",
            "Si ['b', 1, 1, 1, 1, 1, 'b', 'b', 'b'] posición 2 Sp\n",
            "Sp ['b', 1, 1, 1, 1, 1, 'b', 'b', 'b'] posición 3 Si\n",
            "Si ['b', 1, 1, 1, 1, 1, 'b', 'b', 'b'] posición 4 Sp\n",
            "Sp ['b', 1, 1, 1, 1, 1, 'b', 'b', 'b'] posición 5 Si\n",
            "Si ['b', 1, 1, 1, 1, 1, 'impar', 'b', 'b'] posición 6 h\n"
          ],
          "name": "stdout"
        }
      ]
    }
  ]
}