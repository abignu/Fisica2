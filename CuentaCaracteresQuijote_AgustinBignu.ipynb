{
  "nbformat": 4,
  "nbformat_minor": 0,
  "metadata": {
    "colab": {
      "name": "CuentaCaracteresQuijote_AgustinBignu.ipynb",
      "version": "0.3.2",
      "provenance": [],
      "collapsed_sections": [],
      "include_colab_link": true
    },
    "kernelspec": {
      "display_name": "Python 3",
      "language": "python",
      "name": "python3"
    }
  },
  "cells": [
    {
      "cell_type": "markdown",
      "metadata": {
        "id": "view-in-github",
        "colab_type": "text"
      },
      "source": [
        "<a href=\"https://colab.research.google.com/github/abignu/Fisica2/blob/master/CuentaCaracteresQuijote_AgustinBignu.ipynb\" target=\"_parent\"><img src=\"https://colab.research.google.com/assets/colab-badge.svg\" alt=\"Open In Colab\"/></a>"
      ]
    },
    {
      "metadata": {
        "colab_type": "code",
        "id": "SiiPHLJUVrCi",
        "colab": {}
      },
      "cell_type": "code",
      "source": [
        "import numpy as np\n",
        "from numpy import log2\n",
        "from collections import Counter #función auxiliar que me permite contar caracteres de un string\n",
        "import matplotlib.pyplot as plt\n",
        "import scipy.stats as stats"
      ],
      "execution_count": 0,
      "outputs": []
    },
    {
      "metadata": {
        "colab_type": "code",
        "id": "k2k2JY6LWU4f",
        "colab": {}
      },
      "cell_type": "code",
      "source": [
        "with open('quijote.txt', 'r') as archivo:\n",
        "    quijote = archivo.read().replace('\\n', '') #importamos quijote"
      ],
      "execution_count": 0,
      "outputs": []
    },
    {
      "metadata": {
        "id": "z5_9xMFHUnWW",
        "colab_type": "code",
        "colab": {}
      },
      "cell_type": "code",
      "source": [
        "#ahora vamos a contar las frecuencias en los primeros 5000 caracteres\n",
        "cuenta = Counter(quijote[:10000]) #objeto donde contamos la frecuencia de cada caracter\n",
        "alfabeto = ['a', 'b', 'c', 'd', 'e', 'f', 'g', 'h', 'i', 'j', 'k', 'l', 'm', 'n', 'ñ', 'o', 'p', 'q', 'r', 's', 't', 'u', 'v', 'w', 'x', 'y', 'z' ] #alfabeto\n",
        "frecuencias = [] #lista para guardar las frecuencias\n",
        "caracteres = 10000 #total de caracteres"
      ],
      "execution_count": 0,
      "outputs": []
    },
    {
      "metadata": {
        "id": "XbiZMR4RUnWa",
        "colab_type": "code",
        "colab": {},
        "outputId": "3d3812dd-8976-492d-d813-cb6b12bd920a"
      },
      "cell_type": "code",
      "source": [
        "#sacamos probabilidades\n",
        "for i in range(len(alfabeto)):\n",
        "\t#guardo el número de ocurrencias del caracter en el array de frecuencias\n",
        "\tfrecuencias.append(cuenta[alfabeto[i]]) #agregamos a frecuencias el valor de la frecuencia de cada letra\n",
        "\n",
        "#pasamos las listas a array\n",
        "frecuencias = np.asarray(frecuencias)\n",
        "p = frecuencias / sum(frecuencias)\n",
        "print('Suma de las probabilidades = {}'.format(sum(p)))\n",
        "#calculo entropia\n",
        "H = 0\n",
        "for i in range(p.size):\n",
        "\tif p[i] != 0:\n",
        "\t\tH = H + (-1) * p[i] * log2(p[i])\n",
        "\n",
        "print('Entropia = {}'.format(H))"
      ],
      "execution_count": 0,
      "outputs": [
        {
          "output_type": "stream",
          "text": [
            "Suma de las probabilidades = 0.9999999999999999\n",
            "Entropia = 4.0395691068467485\n"
          ],
          "name": "stdout"
        }
      ]
    },
    {
      "metadata": {
        "id": "gVa_HnFCUnWg",
        "colab_type": "code",
        "colab": {},
        "outputId": "de94a98e-6110-4315-8ba6-20fe16a58b29"
      },
      "cell_type": "code",
      "source": [
        "#graficamos barras de frecuencias\n",
        "plt.bar(alfabeto, frecuencias, width=1.2)\n",
        "plt.title('Gráfico de frecuencias')\n",
        "plt.xlabel('Alfabeto')\n",
        "plt.ylabel('Frecuencias')\n",
        "\n",
        "\n",
        "plt.show()"
      ],
      "execution_count": 0,
      "outputs": [
        {
          "output_type": "display_data",
          "data": {
            "image/png": "[encoded data removed]",
            "text/plain": [
              "<Figure size 432x288 with 1 Axes>"
            ]
          },
          "metadata": {
            "tags": []
          }
        }
      ]
    },
    {
      "metadata": {
        "id": "mWMAerbsUnWn",
        "colab_type": "code",
        "colab": {},
        "outputId": "8a8f371c-5b67-462f-e01e-3c15c5dacd6c"
      },
      "cell_type": "code",
      "source": [
        "#ahora graficamos la distribucion con misma media y desv estandar\n",
        "#calculamos media y desv estándar de los datos\n",
        "frec_ordenadas = sorted(frecuencias)\n",
        "media = np.mean(frec_ordenadas)\n",
        "std = np.std(frec_ordenadas)\n",
        "fit = stats.norm.pdf(frec_ordenadas, media, std)\n",
        "plt.plot(frec_ordenadas,fit,'-',linewidth = 2,label=\"Distribución con la misma media y desv. estandar\")\n",
        "plt.hist(frec_ordenadas,normed=True,bins = 27,label=\"Distribución actual\")\n",
        "plt.legend()\n",
        "plt.show()"
      ],
      "execution_count": 0,
      "outputs": [
        {
          "output_type": "stream",
          "text": [
            "c:\\users\\agustin\\appdata\\local\\programs\\python\\python35\\lib\\site-packages\\matplotlib\\axes\\_axes.py:6462: UserWarning: The 'normed' kwarg is deprecated, and has been replaced by the 'density' kwarg.\n",
            "  warnings.warn(\"The 'normed' kwarg is deprecated, and has been \"\n"
          ],
          "name": "stderr"
        },
        {
          "output_type": "display_data",
          "data": {
            "image/png": "[encoded data removed]",
            "text/plain": [
              "<Figure size 432x288 with 1 Axes>"
            ]
          },
          "metadata": {
            "tags": []
          }
        }
      ]
    },
    {
      "metadata": {
        "id": "4Vr9alcvUnWs",
        "colab_type": "code",
        "colab": {},
        "outputId": "0beb58cb-885e-425b-b14e-eea8e1e2eb67"
      },
      "cell_type": "code",
      "source": [
        "#ahora vamos a calcular la correlación entre las dos que más aparecen, la 'e' y la 'a'\n",
        "#p[0] = 'a'; p[4] = 'e'\n",
        "r = (p[0] - p[0]*p[4]) / np.sqrt(p[0]*(1-p[0])*p[4]*(1-p[4]))\n",
        "print('r(a,e) = {}'.format(r))"
      ],
      "execution_count": 0,
      "outputs": [
        {
          "output_type": "stream",
          "text": [
            "r(a,e) = 0.9760423604086353\n"
          ],
          "name": "stdout"
        }
      ]
    },
    {
      "metadata": {
        "id": "KyhTCbe4UnW1",
        "colab_type": "code",
        "colab": {}
      },
      "cell_type": "code",
      "source": [
        ""
      ],
      "execution_count": 0,
      "outputs": []
    }
  ]
}