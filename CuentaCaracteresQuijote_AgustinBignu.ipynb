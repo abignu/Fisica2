{
  "nbformat": 4,
  "nbformat_minor": 0,
  "metadata": {
    "colab": {
      "name": "CuentaCaracteresQuijote_AgustinBignu.ipynb",
      "version": "0.3.2",
      "provenance": [],
      "collapsed_sections": [],
      "include_colab_link": true
    },
    "kernelspec": {
      "display_name": "Python 3",
      "language": "python",
      "name": "python3"
    }
  },
  "cells": [
    {
      "cell_type": "markdown",
      "metadata": {
        "id": "view-in-github",
        "colab_type": "text"
      },
      "source": [
        "<a href=\"https://colab.research.google.com/github/abignu/InformacionCuantica/blob/master/CuentaCaracteresQuijote_AgustinBignu.ipynb\" target=\"_parent\"><img src=\"https://colab.research.google.com/assets/colab-badge.svg\" alt=\"Open In Colab\"/></a>"
      ]
    },
    {
      "metadata": {
        "colab_type": "code",
        "id": "SiiPHLJUVrCi",
        "colab": {}
      },
      "cell_type": "code",
      "source": [
        "import numpy as np\n",
        "from numpy import log2\n",
        "from collections import Counter #función auxiliar que me permite contar caracteres de un string\n",
        "import matplotlib.pyplot as plt\n",
        "import scipy.stats as stats"
      ],
      "execution_count": 0,
      "outputs": []
    },
    {
      "metadata": {
        "colab_type": "code",
        "id": "k2k2JY6LWU4f",
        "colab": {}
      },
      "cell_type": "code",
      "source": [
        "with open('quijote.txt', 'r') as archivo:\n",
        "    quijote = archivo.read().replace('\\n', '') #importamos quijote"
      ],
      "execution_count": 0,
      "outputs": []
    },
    {
      "metadata": {
        "id": "Qp0YeTTviLy3",
        "colab_type": "code",
        "colab": {}
      },
      "cell_type": "code",
      "source": [
        "#ahora vamos a contar las frecuencias en los primeros 5000 caracteres\n",
        "cuenta = Counter(quijote[:10000]) #objeto donde contamos la frecuencia de cada caracter\n",
        "alfabeto = ['a', 'b', 'c', 'd', 'e', 'f', 'g', 'h', 'i', 'j', 'k', 'l', 'm', 'n', 'o', 'p', 'q', 'r', 's', 't', 'u', 'v', 'w', 'x', 'y', 'z' ] #alfabeto\n",
        "frecuencias = [] #lista para guardar las frecuencias\n",
        "caracteres = 10000 #total de caracteres"
      ],
      "execution_count": 0,
      "outputs": []
    },
    {
      "metadata": {
        "id": "t10lDftFiLy7",
        "colab_type": "code",
        "colab": {},
        "outputId": "2aa79f47-4cc8-43b4-9e14-dc9924c6de61"
      },
      "cell_type": "code",
      "source": [
        "#sacamos probabilidades\n",
        "for i in range(len(alfabeto)):\n",
        "\t#guardo el número de ocurrencias del caracter en el array de frecuencias\n",
        "\tfrecuencias.append(cuenta[alfabeto[i]]) #agregamos a frecuencias el valor de la frecuencia de cada letra\n",
        "\n",
        "#pasamos las listas a array\n",
        "frecuencias = np.asarray(frecuencias)\n",
        "p = frecuencias / sum(frecuencias)\n",
        "print('Suma de las probabilidades = {}'.format(sum(p)))\n",
        "#calculo entropia\n",
        "H = 0\n",
        "for i in range(p.size):\n",
        "\tif p[i] != 0:\n",
        "\t\tH = H + (-1) * p[i] * log2(p[i])\n",
        "\n",
        "print('Entropia = {}'.format(H))"
      ],
      "execution_count": 0,
      "outputs": [
        {
          "output_type": "stream",
          "text": [
            "Suma de las probabilidades = 1.0\n",
            "Entropia = 4.026426712536741\n"
          ],
          "name": "stdout"
        }
      ]
    },
    {
      "metadata": {
        "id": "MKyuEgYOiLzA",
        "colab_type": "code",
        "colab": {},
        "outputId": "f5710d0a-2af0-4388-d77a-46326a56bf4f"
      },
      "cell_type": "code",
      "source": [
        "#graficamos barras de frecuencias\n",
        "plt.bar(alfabeto, frecuencias, width=1.2)\n",
        "plt.title('Gráfico de frecuencias')\n",
        "plt.xlabel('Alfabeto')\n",
        "plt.ylabel('Frecuencias')\n",
        "\n",
        "\n",
        "plt.show()"
      ],
      "execution_count": 0,
      "outputs": [
        {
          "output_type": "display_data",
          "data": {
            "image/png": "[encoded data removed]",
            "text/plain": [
              "<Figure size 432x288 with 1 Axes>"
            ]
          },
          "metadata": {
            "tags": []
          }
        }
      ]
    },
    {
      "metadata": {
        "id": "2QajasVUiLzG",
        "colab_type": "code",
        "colab": {},
        "outputId": "8bc867f4-a9a8-473a-9199-203f3b20099c"
      },
      "cell_type": "code",
      "source": [
        "#ahora graficamos la distribucion con misma media y desv estandar\n",
        "#calculamos media y desv estándar de los datos\n",
        "frec_ordenadas = sorted(frecuencias)\n",
        "media = np.mean(frec_ordenadas)\n",
        "std = np.std(frec_ordenadas)\n",
        "fit = stats.norm.pdf(frec_ordenadas, media, std)\n",
        "plt.plot(frec_ordenadas,fit,'-',linewidth = 2,label=\"Distribución con la misma media y desv. estandar\")\n",
        "plt.hist(frec_ordenadas,normed=True,bins = 27,label=\"Distribución actual\")\n",
        "plt.legend()\n",
        "plt.show()"
      ],
      "execution_count": 0,
      "outputs": [
        {
          "output_type": "stream",
          "text": [
            "c:\\users\\agustin\\appdata\\local\\programs\\python\\python35\\lib\\site-packages\\matplotlib\\axes\\_axes.py:6462: UserWarning: The 'normed' kwarg is deprecated, and has been replaced by the 'density' kwarg.\n",
            "  warnings.warn(\"The 'normed' kwarg is deprecated, and has been \"\n"
          ],
          "name": "stderr"
        },
        {
          "output_type": "display_data",
          "data": {
            "image/png": "[encoded data removed]",
            "text/plain": [
              "<Figure size 432x288 with 1 Axes>"
            ]
          },
          "metadata": {
            "tags": []
          }
        }
      ]
    },
    {
      "metadata": {
        "id": "JV86CyrbiLzL",
        "colab_type": "code",
        "colab": {},
        "outputId": "51a0d608-61ee-4711-eb49-cce871fdfe5d"
      },
      "cell_type": "code",
      "source": [
        "#ahora vamos a calcular la correlación entre las dos que más aparecen, la 'e' y la 'a'\n",
        "#p[0] = 'a'; p[4] = 'e'\n",
        "r = (p[0] - p[0]*p[4]) / np.sqrt(p[0]*(1-p[0])*p[4]*(1-p[4]))\n",
        "print('r(a,e) = {}'.format(r))"
      ],
      "execution_count": 0,
      "outputs": [
        {
          "output_type": "stream",
          "text": [
            "r(a,e) = 0.9760348144609544\n"
          ],
          "name": "stdout"
        }
      ]
    },
    {
      "metadata": {
        "id": "qSdQXlTfiLzS",
        "colab_type": "code",
        "colab": {}
      },
      "cell_type": "code",
      "source": [
        "#Longitud media y entropía de los 3 códigos Morse y del código ASCII\n",
        "#empezamos con los Morse\n",
        "#           ['a', 'b', 'c', 'd', 'e', 'f', 'g', 'h', 'i', 'j', 'k', 'l', 'm', 'n', 'o', 'p', 'q', 'r', 's', 't', 'u', 'v', 'w', 'x', 'y', 'z' ]\n",
        "l_american = np.array([6, 10, 7, 8, 2, 8, 10, 8, 4, 12, 10, 6, 8, 6, 5, 10, 10, 7, 6, 4, 8, 10, 10, 10, 9, 9]) #longitudes de las letras del alfabeto del US Morse\n",
        "l_continental = np.array([6, 10, 12, 8, 2, 10, 10, 8, 4, 14, 10, 10, 8, 6, 12, 10, 14, 8, 6, 4, 8, 10, 10, 14, 14, 14]) #longitudes de las letras del alfabeto del Continental Morse\n",
        "l_international = np.array([6, 10, 12, 8, 2, 10, 10, 8, 4, 14, 10, 10, 8, 6, 12, 12, 14, 8, 6, 4, 8, 10, 10, 12, 14, 12]) #longitudes de las letras del alfabeto del international Morse\n"
      ],
      "execution_count": 0,
      "outputs": []
    },
    {
      "metadata": {
        "id": "qUzFPwdriLza",
        "colab_type": "code",
        "colab": {},
        "outputId": "ac59b049-e8ee-4967-803f-668ed0ce4264"
      },
      "cell_type": "code",
      "source": [
        "#Calculamos las longitudes media\n",
        "L_american = sum(l_american * p)\n",
        "L_continental = sum(l_continental * p)\n",
        "L_international = sum(l_international * p)\n",
        "\n",
        "print('L media american = {}; L media continental = {}; L media international = {};'.format(L_american, \n",
        "                                                                                            L_continental, \n",
        "                                                                                            L_international))"
      ],
      "execution_count": 0,
      "outputs": [
        {
          "output_type": "stream",
          "text": [
            "L media american = 6.000910865322054; L media continental = 7.352244632400779; L media international = 7.38061158100195;\n"
          ],
          "name": "stdout"
        }
      ]
    },
    {
      "metadata": {
        "id": "OIqMNsjeiLzh",
        "colab_type": "code",
        "colab": {},
        "outputId": "29c691e3-8bc5-426d-f621-c1f20399f611"
      },
      "cell_type": "code",
      "source": [
        "#Ahora para el código ASCII\n",
        "l_ASCII = 8 #todos son de longitud 8\n",
        "L_ASCII = sum(8 * p) #L media ASCII\n",
        "\n",
        "print('L media ASCII = {}'.format(L_ASCII))"
      ],
      "execution_count": 0,
      "outputs": [
        {
          "output_type": "stream",
          "text": [
            "L media ASCII = 8.0\n"
          ],
          "name": "stdout"
        }
      ]
    },
    {
      "metadata": {
        "id": "vofFLTSliLzm",
        "colab_type": "code",
        "colab": {},
        "outputId": "e2136a2c-9a03-48da-9604-b05bdfb3957a"
      },
      "cell_type": "code",
      "source": [
        "#Por último obtenemos la eficiencia de cada uno\n",
        "efi_american = H / L_american\n",
        "efi_continental = H / L_continental\n",
        "efi_international = H / L_international\n",
        "efi_ASCII = H / L_ASCII\n",
        "\n",
        "print('Eficiencia american = {}; Eficiencia continental = {}; Eficiencia international = {}; Eficiencia ASCII = {};'.format(efi_american, \n",
        "                                                                                            efi_continental, \n",
        "                                                                                            efi_international,\n",
        "                                                                                            efi_ASCII))\n"
      ],
      "execution_count": 0,
      "outputs": [
        {
          "output_type": "stream",
          "text": [
            "Eficiencia american = 0.6709692583178624; Eficiencia continental = 0.5476459113986206; Eficiencia international = 0.5455410663935977; Eficiencia ASCII = 0.5033033390670926;\n"
          ],
          "name": "stdout"
        }
      ]
    },
    {
      "metadata": {
        "id": "2hfyeYpGiLzr",
        "colab_type": "code",
        "colab": {}
      },
      "cell_type": "code",
      "source": [
        ""
      ],
      "execution_count": 0,
      "outputs": []
    }
  ]
}